{
 "cells": [
  {
   "cell_type": "code",
   "execution_count": 93,
   "id": "06c6b0f5",
   "metadata": {},
   "outputs": [],
   "source": [
    "import matplotlib.pyplot as plt\n",
    "import pandas as pd\n",
    "import numpy as np\n",
    "import cv2\n",
    "import sys\n",
    "from kmeans import k_means"
   ]
  },
  {
   "cell_type": "code",
   "execution_count": 177,
   "id": "ebcb7e48",
   "metadata": {},
   "outputs": [],
   "source": [
    "img = cv2.imread(\"cr7.png\")\n",
    "aux = img.shape\n",
    "l = img.reshape(aux[0]*aux[1], 3)\n",
    "df = pd.DataFrame(data = l)\n",
    "dfo = pd.DataFrame(data = l)"
   ]
  },
  {
   "cell_type": "code",
   "execution_count": 192,
   "id": "e7a64d14",
   "metadata": {},
   "outputs": [
    {
     "name": "stdout",
     "output_type": "stream",
     "text": [
      "16"
     ]
    }
   ],
   "source": [
    "k = 7\n",
    "clusters_indexes, centroids, clusters = k_means(l, k)"
   ]
  },
  {
   "cell_type": "code",
   "execution_count": null,
   "id": "546e195f",
   "metadata": {},
   "outputs": [],
   "source": []
  },
  {
   "cell_type": "code",
   "execution_count": 193,
   "id": "c1cc20b5",
   "metadata": {},
   "outputs": [],
   "source": [
    "for i in range(k):\n",
    "    df.loc[clusters_indexes[i]] = centroids[i]\n"
   ]
  },
  {
   "cell_type": "code",
   "execution_count": 194,
   "id": "aadc24f1",
   "metadata": {},
   "outputs": [
    {
     "data": {
      "text/plain": [
       "-1"
      ]
     },
     "execution_count": 194,
     "metadata": {},
     "output_type": "execute_result"
    }
   ],
   "source": [
    "l2 = df.to_numpy()\n",
    "img2 = l2.reshape(img.shape)\n",
    "cv2.imwrite(\"img_change.png\", img2) \n",
    "cv2.imshow(\"image\", img2)\n",
    "cv2.waitKey(0)"
   ]
  },
  {
   "cell_type": "code",
   "execution_count": 195,
   "id": "c3867325",
   "metadata": {},
   "outputs": [
    {
     "name": "stdout",
     "output_type": "stream",
     "text": [
      "[[ 28.17165261  13.28299049 233.38879639]\n",
      " [  5.08281032   3.58612273 135.36488842]\n",
      " [133.72866217 163.19620881 206.37842398]\n",
      " [ 61.26590222  63.2839915   64.64399844]\n",
      " [ 43.24675455  32.7219061   14.26116608]\n",
      " [ 81.134897    98.79259637 109.51064654]\n",
      " [ 90.12165614  64.15042344  10.63792176]]\n"
     ]
    }
   ],
   "source": [
    "print(centroids)"
   ]
  },
  {
   "cell_type": "code",
   "execution_count": null,
   "id": "efdd8bd5",
   "metadata": {},
   "outputs": [],
   "source": []
  },
  {
   "cell_type": "code",
   "execution_count": null,
   "id": "271a0305",
   "metadata": {},
   "outputs": [],
   "source": []
  },
  {
   "cell_type": "code",
   "execution_count": 46,
   "id": "c0bd1b5c",
   "metadata": {},
   "outputs": [],
   "source": []
  },
  {
   "cell_type": "code",
   "execution_count": 196,
   "id": "8a5f3895",
   "metadata": {},
   "outputs": [],
   "source": [
    "x =- np.full(\n",
    "  shape=10000,\n",
    "  fill_value=0\n",
    ")\n",
    "df2 = pd.DataFrame(data = x)\n",
    "df2[1] = x\n",
    "df2[2] = x"
   ]
  },
  {
   "cell_type": "code",
   "execution_count": 197,
   "id": "9cb011ee",
   "metadata": {},
   "outputs": [],
   "source": [
    "j = 0\n",
    "for c in centroids:\n",
    "    for i in range(10000):\n",
    "        df2.loc[i] = c\n",
    "    \n",
    "    l3 = df2.to_numpy()\n",
    "    img3 = l3.reshape((100,100,3))\n",
    "    cv2.imwrite(\"color_\"+ str(j) +\".png\", img3) \n",
    "    j = j+1"
   ]
  },
  {
   "cell_type": "code",
   "execution_count": null,
   "id": "24caff95",
   "metadata": {},
   "outputs": [],
   "source": []
  },
  {
   "cell_type": "code",
   "execution_count": 201,
   "id": "fbd5caee",
   "metadata": {},
   "outputs": [
    {
     "name": "stdout",
     "output_type": "stream",
     "text": [
      "18619\n",
      "5736\n",
      "10076\n",
      "69157\n",
      "69944\n",
      "49030\n",
      "14878\n"
     ]
    }
   ],
   "source": [
    "y = 0\n",
    "for x in clusters_indexes:\n",
    "    print(len(x))\n",
    "    y = y + len(x)\n",
    "\n"
   ]
  },
  {
   "cell_type": "code",
   "execution_count": 152,
   "id": "80283682",
   "metadata": {},
   "outputs": [],
   "source": [
    "x = dfo.value_counts()"
   ]
  },
  {
   "cell_type": "code",
   "execution_count": 153,
   "id": "60d5cf43",
   "metadata": {},
   "outputs": [
    {
     "data": {
      "text/plain": [
       "0    1    2  \n",
       "0    0    0      704448\n",
       "177  162  127     23601\n",
       "178  163  128     21379\n",
       "177  162  128     19581\n",
       "     163  128     19265\n",
       "                  ...  \n",
       "126  82   96          1\n",
       "          95          1\n",
       "125  126  192         1\n",
       "     124  191         1\n",
       "238  220  174         1\n",
       "Name: count, Length: 8715, dtype: int64"
      ]
     },
     "execution_count": 153,
     "metadata": {},
     "output_type": "execute_result"
    }
   ],
   "source": [
    "x"
   ]
  },
  {
   "cell_type": "code",
   "execution_count": 146,
   "id": "1a68645a",
   "metadata": {},
   "outputs": [],
   "source": [
    "for i in range(10000):\n",
    "    df2.loc[i] =[225.18433407, 205.39587705, 152.98128483]"
   ]
  },
  {
   "cell_type": "code",
   "execution_count": 147,
   "id": "e2705fa9",
   "metadata": {},
   "outputs": [
    {
     "data": {
      "text/plain": [
       "True"
      ]
     },
     "execution_count": 147,
     "metadata": {},
     "output_type": "execute_result"
    }
   ],
   "source": [
    "l3 = df2.to_numpy()\n",
    "img3 = l3.reshape((100,100,3))\n",
    "cv2.imwrite(\"color_\"+ str(100000000) +\".png\", img3) "
   ]
  },
  {
   "cell_type": "code",
   "execution_count": 166,
   "id": "b68f5113",
   "metadata": {},
   "outputs": [],
   "source": [
    "img = cv2.imread(\"cr7.png\")"
   ]
  },
  {
   "cell_type": "code",
   "execution_count": 169,
   "id": "ee24884e",
   "metadata": {},
   "outputs": [],
   "source": []
  },
  {
   "cell_type": "code",
   "execution_count": 202,
   "id": "3525e8b5",
   "metadata": {},
   "outputs": [],
   "source": [
    "aux = img.shape"
   ]
  },
  {
   "cell_type": "code",
   "execution_count": 203,
   "id": "830293c4",
   "metadata": {},
   "outputs": [
    {
     "data": {
      "text/plain": [
       "(371, 640, 3)"
      ]
     },
     "execution_count": 203,
     "metadata": {},
     "output_type": "execute_result"
    }
   ],
   "source": [
    "aux"
   ]
  },
  {
   "cell_type": "code",
   "execution_count": 204,
   "id": "51c8ed4e",
   "metadata": {},
   "outputs": [
    {
     "data": {
      "text/plain": [
       "237440"
      ]
     },
     "execution_count": 204,
     "metadata": {},
     "output_type": "execute_result"
    }
   ],
   "source": [
    "371*640"
   ]
  },
  {
   "cell_type": "code",
   "execution_count": null,
   "id": "275f93b1",
   "metadata": {},
   "outputs": [],
   "source": []
  }
 ],
 "metadata": {
  "kernelspec": {
   "display_name": "Python 3 (ipykernel)",
   "language": "python",
   "name": "python3"
  },
  "language_info": {
   "codemirror_mode": {
    "name": "ipython",
    "version": 3
   },
   "file_extension": ".py",
   "mimetype": "text/x-python",
   "name": "python",
   "nbconvert_exporter": "python",
   "pygments_lexer": "ipython3",
   "version": "3.11.5"
  }
 },
 "nbformat": 4,
 "nbformat_minor": 5
}
